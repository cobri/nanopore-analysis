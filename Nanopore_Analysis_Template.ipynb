{
 "cells": [
  {
   "cell_type": "markdown",
   "id": "4bd568a8",
   "metadata": {},
   "source": [
    "# Analysis of Nanopore sequencing data\n",
    "\n",
    "## Introduction\n",
    "\n",
    "\n",
    "This notebook describes how members of the Center for Antibody Technologies at DTU can analyse the sequences of their nanobody clones using nanopore sequening.\n",
    "\n",
    "\n"
   ]
  },
  {
   "cell_type": "markdown",
   "id": "dbb97bad",
   "metadata": {},
   "source": [
    "## 0: Setup\n",
    "\n",
    "Copy data from the minion computer. Results are stored in Var/Lib/Minknow/Data.\n"
   ]
  },
  {
   "cell_type": "markdown",
   "id": "561231e4",
   "metadata": {},
   "source": [
    "## 1: Update variables\n",
    "This should be the only code in the notebook you need to edit. Update this section so that the variables point to your data. The outdir should already exist and should contain the Guppy configuration files as described in the Guppy manual."
   ]
  },
  {
   "cell_type": "code",
   "execution_count": null,
   "id": "f5fb0b38",
   "metadata": {},
   "outputs": [],
   "source": [
    "# The location of the nanopore output fastq files\n",
    "BASECALLS=\"/Users/cmaob/Documents/Nanopore/Analysis/Minion_raw_results/07062023_CAT_Run4/07062023_CAT_Run4/20230607_1102_MN37845_AOD586_2ba092dd/fastq_pass\"\n",
    "\n",
    "# The location where you want the analysis to be saved\n",
    "OUTDIR=\"/Users/cmaob/Documents/Nanopore/Analysis\"\n",
    "\n",
    "# Name of this experiment\n",
    "EXPNAME=\"07062023_CAT_Run4\"\n",
    "\n",
    "# File containing which clones are with what barcode\n",
    "MAPPINGFILE=\"/Users/cmaob/Documents/Nanopore/Analysis/MA_yeswo_SVMP_001_mappings.csv\"\n",
    "\n",
    "# Location of Guppy executable\n",
    "GUPPY=\"/Users/cmaob/Documents/Nanopore/ont-guppy-cpu/bin/guppy_barcoder\"\n"
   ]
  },
  {
   "cell_type": "markdown",
   "id": "6954a073",
   "metadata": {},
   "source": [
    "## 2: Setup\n",
    "Create the folders necessary for the analysis."
   ]
  },
  {
   "cell_type": "code",
   "execution_count": null,
   "id": "4aa2baea",
   "metadata": {},
   "outputs": [],
   "source": [
    "%cd {OUTDIR}\n",
    "%mkdir -p {EXPNAME}\n",
    "%cd {EXPNAME}\n",
    "%mkdir -p Consensus\n",
    "%mkdir -p Demultiplex"
   ]
  },
  {
   "cell_type": "markdown",
   "id": "4bc4bb85",
   "metadata": {},
   "source": [
    "## 3: Demultiplex the samples\n",
    "\n",
    "Use the Guppy software from Nanopore Technologies to split the reads up according to their plate barcode.\n",
    "\n",
    "### 3.1: Split the barcodes by plate"
   ]
  },
  {
   "cell_type": "code",
   "execution_count": null,
   "id": "32a198e8",
   "metadata": {},
   "outputs": [],
   "source": [
    "guppy_plate_cmd = f\"{GUPPY}\\\n",
    "    --input_path {BASECALLS} \\\n",
    "    --save_path Demultiplex \\\n",
    "    --data_path ../custom_barcoding_info_plate/barcoding \\\n",
    "    --barcode_kits MY-CUSTOM-BARCODES\"\n",
    "\n",
    "!{guppy_plate_cmd}"
   ]
  },
  {
   "cell_type": "markdown",
   "id": "5e906cbe",
   "metadata": {},
   "source": [
    "### Plotting the results - the numbers of reads per barcode"
   ]
  },
  {
   "cell_type": "markdown",
   "id": "d4ce9727",
   "metadata": {},
   "source": [
    "Enable R to be run in the notebook. All figures are plotted in R. This is indicated by the ```%%R``` at the beginning of the code cell. "
   ]
  },
  {
   "cell_type": "code",
   "execution_count": null,
   "id": "d212b703",
   "metadata": {},
   "outputs": [],
   "source": [
    "%load_ext rpy2.ipython"
   ]
  },
  {
   "cell_type": "markdown",
   "id": "7f031f79",
   "metadata": {},
   "source": [
    "Create bar charts of how many reads were assigned to each plate:"
   ]
  },
  {
   "cell_type": "code",
   "execution_count": null,
   "id": "60ae1057",
   "metadata": {},
   "outputs": [],
   "source": [
    "%%R\n",
    "library(ggplot2)\n",
    "data <- read.table(\"Demultiplex/barcoding_summary.txt\", header=TRUE, check.names=FALSE, sep=\"\\t\")\n",
    "df <- as.data.frame(table(data$barcode_arrangement))\n",
    "numb_labels <- round(df$Freq/sum(df$Freq) * 100, 1)\n",
    "numb_labels <- paste(numb_labels, \"%\", sep=\"\")\n",
    "\n",
    "# Create the plot\n",
    "p <- ggplot(data=df, aes(x=Var1, y=Freq)) +\n",
    "  geom_bar(stat=\"identity\", fill=\"steelblue\", width = 0.75) +\n",
    "  geom_text(aes(label=numb_labels), hjust=-0.2, color=\"black\", size=3.5)+\n",
    "  scale_x_discrete(limits=c(\"barcode04\",\"barcode03\",\"barcode02\",\"barcode01\",\"unclassified\")) +\n",
    "  scale_y_continuous(expand = c(0, 0)) +\n",
    "  labs(y = \"Read count\", x=\"Barcode\") +\n",
    "  coord_flip(clip = \"off\") +\n",
    "  theme_bw() +\n",
    "  theme(panel.border = element_blank(), \n",
    "        axis.line = element_line(colour = \"black\"), \n",
    "        plot.margin = margin(0.5, 2, 0.5, 0.5, \"cm\"),\n",
    "        axis.text= element_text(colour=\"black\"),\n",
    "        axis.title.x = element_text(vjust = -1)\n",
    "  ) \n",
    "\n",
    "# Show the plot\n",
    "print(p, vp=grid::viewport(width=unit(7, 'inch'), height=unit(5, 'inch')))\n",
    "# Save the plot\n",
    "ggsave(\"Demultiplex/Demultiplexing_by_plate.pdf\", width = 7, height = 5, units = \"in\")\n",
    "ggsave(\"Demultiplex/Demultiplexing_by_plate.png\", width = 7, height = 5, units = \"in\")"
   ]
  },
  {
   "cell_type": "markdown",
   "id": "8a90a135",
   "metadata": {},
   "source": [
    "### 3.2: Split the barcodes by well\n",
    "\n",
    "Run Guppy again, but this time to split the reads by well barcode."
   ]
  },
  {
   "cell_type": "code",
   "execution_count": null,
   "id": "ce1ef8c1",
   "metadata": {},
   "outputs": [],
   "source": [
    "for x in range(1, 5):\n",
    "    guppy_well_cmd = f\"{GUPPY} \\\n",
    "        --input_path Demultiplex/barcode{x:02d} \\\n",
    "        --save_path Demultiplex/barcode{x:02d}/demultiplex_by_well \\\n",
    "        --data_path ../custom_barcoding_info_well/barcoding \\\n",
    "        --barcode_kits MY-CUSTOM-BARCODES\"\n",
    "\n",
    "    !{guppy_well_cmd}"
   ]
  },
  {
   "cell_type": "markdown",
   "id": "a158dc60",
   "metadata": {},
   "source": [
    "### Plotting the results - the numbers of reads per barcode\n",
    "\n",
    "Now make a plot about the distribution of the barcodes.\n",
    "\n",
    "The plots will be a little difficult to see in the panel of this notebook, but they should save to file okay. "
   ]
  },
  {
   "cell_type": "code",
   "execution_count": null,
   "id": "326da4e8",
   "metadata": {},
   "outputs": [],
   "source": [
    "%%R -w 5 -h 5 --units in -r 200\n",
    "\n",
    "#Import data\n",
    "bc1 <- read.table(\"Demultiplex/barcode01/demultiplex_by_well/barcoding_summary.txt\", header=TRUE, check.names=FALSE, sep=\"\\t\")\n",
    "bc2 <- read.table(\"Demultiplex/barcode02/demultiplex_by_well/barcoding_summary.txt\", header=TRUE, check.names=FALSE, sep=\"\\t\")\n",
    "bc3 <- read.table(\"Demultiplex/barcode03/demultiplex_by_well/barcoding_summary.txt\", header=TRUE, check.names=FALSE, sep=\"\\t\")\n",
    "bc4 <- read.table(\"Demultiplex/barcode04/demultiplex_by_well/barcoding_summary.txt\", header=TRUE, check.names=FALSE, sep=\"\\t\")\n",
    "\n",
    "# Turn into data frame\n",
    "Barcode01 <- as.data.frame(table(bc1$barcode_arrangement))\n",
    "Barcode02 <- as.data.frame(table(bc2$barcode_arrangement))\n",
    "Barcode03 <- as.data.frame(table(bc3$barcode_arrangement))\n",
    "Barcode04 <- as.data.frame(table(bc4$barcode_arrangement))\n",
    "\n",
    "# Create graphing function\n",
    "create_graph <- function(table) {\n",
    "  ggplot(data=table, aes(x=Var1, y=Freq)) +\n",
    "    geom_bar(stat=\"identity\", fill=\"steelblue\", width = 0.75) +\n",
    "    scale_y_continuous(expand = c(0, 0)) +\n",
    "    labs(y =\"Read count\", x=deparse(substitute(table))) +\n",
    "    guides(x = guide_axis(angle = 90)) +\n",
    "    theme_bw() +\n",
    "    theme(panel.border = element_blank(), \n",
    "          axis.line = element_line(colour = \"black\"), \n",
    "          axis.text= element_text(colour=\"black\", size = 8),\n",
    "          axis.title.x = element_text(vjust = -0.75)\n",
    "    )\n",
    "}\n",
    "\n",
    "# Call the function to create the graphs\n",
    "p1 <- create_graph(Barcode01)\n",
    "p2 <- create_graph(Barcode02)\n",
    "p3 <- create_graph(Barcode03)\n",
    "p4 <- create_graph(Barcode04)\n",
    "\n",
    "# Stitch the plots together\n",
    "library(patchwork)\n",
    "well_plot <- (p1 / p2 / p3 / p4)\n",
    "# Display the graphs\n",
    "print(well_plot)\n",
    "# Save the plot\n",
    "ggsave(\"Demultiplex/Demultiplexing_by_well.pdf\", width = 11, height = 9, units = \"in\")\n",
    "ggsave(\"Demultiplex/Demultiplexing_by_well.png\", width = 11, height = 9, units = \"in\")"
   ]
  },
  {
   "cell_type": "markdown",
   "id": "e511158f",
   "metadata": {},
   "source": [
    "Because there are so many unclassified reads it is difficult to see the numbers for the other barcodes. So we will generate a second graph without unclassified reads."
   ]
  },
  {
   "cell_type": "code",
   "execution_count": null,
   "id": "ee184a89",
   "metadata": {},
   "outputs": [],
   "source": [
    "%%R -w 5 -h 10 --units in -r 200\n",
    "\n",
    "# Drop the unclassified row\n",
    "Barcode01 <- subset(Barcode01,Var1!='unclassified' )\n",
    "Barcode02 <- subset(Barcode02,Var1!='unclassified' )\n",
    "Barcode03 <- subset(Barcode03,Var1!='unclassified' )\n",
    "Barcode04 <- subset(Barcode04,Var1!='unclassified' )\n",
    "\n",
    "# Create graphing function\n",
    "create_graph <- function(table) {\n",
    "  ggplot(data=table, aes(x=Var1, y=Freq)) +\n",
    "    geom_bar(stat=\"identity\", fill=\"steelblue\", width = 0.75) +\n",
    "    scale_y_continuous(expand = c(0, 0)) +\n",
    "    labs(y =\"Read count\", x=deparse(substitute(table))) +\n",
    "    #coord_flip(clip = \"off\") +\n",
    "    guides(x = guide_axis(angle = 90)) +\n",
    "    theme_bw() +\n",
    "    theme(panel.border = element_blank(), \n",
    "          axis.line = element_line(colour = \"black\"), \n",
    "          #plot.margin = margin(0.5, 2, 0.5, 0.5, \"cm\"),\n",
    "          axis.text= element_text(colour=\"black\", size = 8),\n",
    "          axis.title.x = element_text(vjust = -0.75)\n",
    "    )\n",
    "}\n",
    "\n",
    "# Call the function to create the graphs\n",
    "p1 <- create_graph(Barcode01)\n",
    "p2 <- create_graph(Barcode02)\n",
    "p3 <- create_graph(Barcode03)\n",
    "p4 <- create_graph(Barcode04)\n",
    "\n",
    "# Stitch the plots together\n",
    "library(patchwork)\n",
    "well_plot <- (p1 / p2 / p3 / p4)\n",
    "# Display the graphs\n",
    "print(well_plot)\n",
    "# Save the plot\n",
    "ggsave(\"Demultiplex/Demultiplexing_by_well_no_unclassified.pdf\", width = 11, height = 9, units = \"in\")\n",
    "ggsave(\"Demultiplex/Demultiplexing_by_well_no_unclassified.png\", width = 11, height = 9, units = \"in\")"
   ]
  },
  {
   "cell_type": "markdown",
   "id": "78d01519",
   "metadata": {},
   "source": [
    "## 4: Create the consensus sequence\n",
    "\n",
    "Run the medaka software to create consensus sequences on all 96 clones. This can take a while to run.\n",
    "\n"
   ]
  },
  {
   "cell_type": "code",
   "execution_count": null,
   "id": "bf9def18",
   "metadata": {},
   "outputs": [],
   "source": [
    "# Get the name of the fastq file\n",
    "DIR_PATH = \"Demultiplex/barcode01/demultiplex_by_well/barcode96/\"\n",
    "FILENAMES = !ls \"$DIR_PATH\"\n",
    "FILENAME = FILENAMES[0] if FILENAMES else None\n",
    "\n",
    "# Iterate over filenames and run medaka_consensus\n",
    "for i in range(1, 3):\n",
    "    for j in range(1, 97):\n",
    "        # Construct the medaka_consensus command\n",
    "        medaka_consensus_cmd = f'medaka_consensus -i \"Demultiplex/barcode{i:02d}/demultiplex_by_well/barcode{j:02d}/{FILENAME}\" -d ../VHH_long_extended_to_primer.fa -o \"Consensus/barcode{i:02d}_{j:02d}\" -m r941_min_high_g303'\n",
    "        # Execute the medaka_consensus command\n",
    "        !{medaka_consensus_cmd}"
   ]
  },
  {
   "cell_type": "markdown",
   "id": "4fc0fe3b",
   "metadata": {},
   "source": [
    "Now add the name of the clone to the folder, filename and fasta header."
   ]
  },
  {
   "cell_type": "code",
   "execution_count": null,
   "id": "e052114a",
   "metadata": {},
   "outputs": [],
   "source": [
    "%cd Consensus\n",
    "# Create dictionary with the well locations of each clone name\n",
    "dict = {}\n",
    "with open(MAPPINGFILE) as f:\n",
    "  for line in f:\n",
    "      tok = line.strip().split(\"\\t\")\n",
    "      dict[tok[0]] = tok[1]"
   ]
  },
  {
   "cell_type": "code",
   "execution_count": null,
   "id": "f9b01665",
   "metadata": {},
   "outputs": [],
   "source": [
    "# Rename the folders\n",
    "import os\n",
    "from os.path import join\n",
    "for oldname, newname in dict.items():\n",
    "    fullname = newname + \"_\" + oldname\n",
    "    os.rename(oldname, fullname)\n"
   ]
  },
  {
   "cell_type": "code",
   "execution_count": null,
   "id": "53bf3bd6",
   "metadata": {},
   "outputs": [],
   "source": [
    "# Rename file to have the same name as the folder\n",
    "for root,_, files in os.walk(os.getcwd()):\n",
    "    for name in files:\n",
    "        dir_name = os.path.basename(root)\n",
    "        newname = dir_name + \"_\" + name\n",
    "        os.rename(join(root,name),join(root,newname))"
   ]
  },
  {
   "cell_type": "markdown",
   "id": "38ca0585",
   "metadata": {},
   "source": [
    "Next we need to move all fastas to a new folder to make them easier to work with"
   ]
  },
  {
   "cell_type": "code",
   "execution_count": null,
   "id": "fc621155",
   "metadata": {},
   "outputs": [],
   "source": [
    "# Create folder to store fastas\n",
    "!mkdir all_fastas\n",
    "\n",
    "# Copy the fastas into this folder\n",
    "!find . -type f -iname \"*.fasta\" -exec cp -t all_fastas/ {} +"
   ]
  },
  {
   "cell_type": "code",
   "execution_count": null,
   "id": "c9d9c1f0",
   "metadata": {},
   "outputs": [],
   "source": [
    "# Rename the fasta header\n",
    "%cd all_fastas\n",
    "!mkdir renamed_headers\n",
    "\n",
    "!for FILE in *.fasta; \\\n",
    "do awk '/^>/ {gsub(/.fa(sta)?$/,\"\",FILENAME);printf(\">%s\\n\",FILENAME);next;} {print}' $FILE > renamed_headers/${FILE} ; \\\n",
    "done\n",
    "# Source: https://www.biostars.org/p/204541/"
   ]
  },
  {
   "cell_type": "code",
   "execution_count": null,
   "id": "d76b8b96",
   "metadata": {},
   "outputs": [],
   "source": [
    "# Remove all files that don't begin with 'TPL' (or 'M_TPL' - edit below as needed)as they are not from clones\n",
    "!find renamed_headers/ -type f ! -name \"M_TPL*\" -delete"
   ]
  },
  {
   "cell_type": "code",
   "execution_count": null,
   "id": "488bf628",
   "metadata": {},
   "outputs": [],
   "source": [
    "# Combine all fasta files into one multifasta\n",
    "!cat renamed_headers/*.fasta > renamed_headers/nanopore_sequencing_result_${EXPNAME}.fasta\n",
    "# Also create a copy in the experiment home folder so it is easy to find\n",
    "!cp renamed_headers/nanopore_sequencing_result_${EXPNAME}.fasta ../../"
   ]
  },
  {
   "cell_type": "markdown",
   "id": "57bf8fea",
   "metadata": {},
   "source": [
    "## 5: Compare to Sanger Sequencing"
   ]
  },
  {
   "cell_type": "markdown",
   "id": "0e161eaf",
   "metadata": {},
   "source": [
    "Now that we have the sequence for each clone, we need to compare to the sanger sequences. To do this, we will use the tutorial that Yessica made. Materials for this can be found in the /Volumes/Bio-Temp/Center-for-Antibody-Technologies-temp/Wellcome/Research/Hand over from Yessica/CLC tutorials folder."
   ]
  }
 ],
 "metadata": {
  "kernelspec": {
   "display_name": "Python 3",
   "language": "python",
   "name": "python3"
  },
  "language_info": {
   "codemirror_mode": {
    "name": "ipython",
    "version": 3
   },
   "file_extension": ".py",
   "mimetype": "text/x-python",
   "name": "python",
   "nbconvert_exporter": "python",
   "pygments_lexer": "ipython3",
   "version": "3.6.15"
  }
 },
 "nbformat": 4,
 "nbformat_minor": 5
}
